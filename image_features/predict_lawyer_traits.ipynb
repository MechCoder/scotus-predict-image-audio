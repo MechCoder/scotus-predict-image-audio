{
 "cells": [
  {
   "cell_type": "code",
   "execution_count": 51,
   "metadata": {
    "collapsed": false
   },
   "outputs": [],
   "source": [
    "%matplotlib inline\n",
    "\n",
    "import os\n",
    "import pickle\n",
    "\n",
    "from skimage.feature import hog\n",
    "from skimage import color, io, transform\n",
    "\n",
    "import numpy as np\n",
    "import pandas as pd\n",
    "import pylab as pl\n",
    "import matplotlib.pyplot as plt\n",
    "\n",
    "from sklearn import decomposition\n",
    "from sklearn.linear_model import Ridge\n",
    "from sklearn.linear_model import RidgeCV\n",
    "from sklearn.metrics import mean_squared_error\n",
    "from sklearn.cross_validation import train_test_split"
   ]
  },
  {
   "cell_type": "code",
   "execution_count": 52,
   "metadata": {
    "collapsed": true
   },
   "outputs": [],
   "source": [
    "STANDARD_SIZE = (100, 128)\n",
    "def HOG(filename):\n",
    "    im = io.imread(filename)\n",
    "    image = color.rgb2gray(im)\n",
    "    image = transform.resize(image, STANDARD_SIZE)\n",
    "    fd = hog(image,orientations=8,pixels_per_cell=(8,8),cells_per_block=(4,4),visualise=False)\n",
    "    return fd"
   ]
  },
  {
   "cell_type": "code",
   "execution_count": 53,
   "metadata": {
    "collapsed": false
   },
   "outputs": [],
   "source": [
    "img_dir = \"lawyer_faces/\"\n",
    "path_list = os.listdir(img_dir)\n",
    "path_list = [x for x in path_list if (x.endswith('.jpg') | x.endswith('.jpeg'))]"
   ]
  },
  {
   "cell_type": "code",
   "execution_count": 54,
   "metadata": {
    "collapsed": true
   },
   "outputs": [],
   "source": [
    "X = []\n",
    "for image in path_list:\n",
    "    img = HOG(img_dir + image)\n",
    "    X.append(img)\n",
    "X = np.array(X)"
   ]
  },
  {
   "cell_type": "code",
   "execution_count": 55,
   "metadata": {
    "collapsed": false
   },
   "outputs": [
    {
     "name": "stdout",
     "output_type": "stream",
     "text": [
      "file found, file loaded\n"
     ]
    }
   ],
   "source": [
    "if os.path.isfile(\"tmp/HOG_PCA.p\"):\n",
    "    print \"file found, file loaded\"\n",
    "    pca = pickle.load(open(\"tmp/HOG_PCA.p\", 'r'))\n",
    "else:\n",
    "    print \"file not found\""
   ]
  },
  {
   "cell_type": "code",
   "execution_count": 56,
   "metadata": {
    "collapsed": false
   },
   "outputs": [],
   "source": [
    "X2 = pca.transform(X)"
   ]
  },
  {
   "cell_type": "code",
   "execution_count": 57,
   "metadata": {
    "collapsed": false
   },
   "outputs": [],
   "source": [
    "clfs = pickle.load(open(\"tmp/HOG_PCA_CLF.p\", \"r\"))"
   ]
  },
  {
   "cell_type": "code",
   "execution_count": 58,
   "metadata": {
    "collapsed": false
   },
   "outputs": [],
   "source": [
    "df = pd.DataFrame(path_list,columns=[\"path\"])\n",
    "for clf in clfs:\n",
    "    df[clf] = clfs[clf].predict(X2)"
   ]
  },
  {
   "cell_type": "code",
   "execution_count": 59,
   "metadata": {
    "collapsed": false
   },
   "outputs": [],
   "source": [
    "df.to_csv('lawyer_trait_predictions.csv')"
   ]
  },
  {
   "cell_type": "code",
   "execution_count": null,
   "metadata": {
    "collapsed": true
   },
   "outputs": [],
   "source": []
  }
 ],
 "metadata": {
  "kernelspec": {
   "display_name": "Python 2",
   "language": "python",
   "name": "python2"
  },
  "language_info": {
   "codemirror_mode": {
    "name": "ipython",
    "version": 2
   },
   "file_extension": ".py",
   "mimetype": "text/x-python",
   "name": "python",
   "nbconvert_exporter": "python",
   "pygments_lexer": "ipython2",
   "version": "2.7.11"
  }
 },
 "nbformat": 4,
 "nbformat_minor": 0
}
