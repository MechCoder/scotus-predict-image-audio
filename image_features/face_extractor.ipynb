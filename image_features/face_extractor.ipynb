{
 "cells": [
  {
   "cell_type": "code",
   "execution_count": 25,
   "metadata": {
    "collapsed": true
   },
   "outputs": [],
   "source": [
    "#!/usr/bin/env python\n",
    "\n",
    "'''\n",
    "This is a script which takes jpg image files, identifies the location of the face,\n",
    "does an ellipsoid crop down onto the facial region, and saves the cropped image!\n",
    "'''\n",
    "\n",
    "__author__      = \"Phil\"\n",
    "__copyright__   = \"Copyright 2016, The Team\""
   ]
  },
  {
   "cell_type": "code",
   "execution_count": 26,
   "metadata": {
    "collapsed": true
   },
   "outputs": [],
   "source": [
    "from PIL import Image, ImageOps, ImageDraw\n",
    "import numpy as np\n",
    "import cv2\n",
    "import os\n",
    "\n",
    "from PIL import Image, ImageOps"
   ]
  },
  {
   "cell_type": "code",
   "execution_count": 33,
   "metadata": {
    "collapsed": false
   },
   "outputs": [
    {
     "name": "stdout",
     "output_type": "stream",
     "text": [
      "Where are the image files? lawyer_images\n"
     ]
    }
   ],
   "source": [
    "face_cascade = cv2.CascadeClassifier('/Users/phil/anaconda/share/OpenCV/haarcascades/haarcascade_frontalface_default.xml')\n",
    "eye_cascade = cv2.CascadeClassifier('/Users/phil/anaconda/share/OpenCV/haarcascades/haarcascade_eye.xml')\n",
    "\n",
    "directory = raw_input(\"Where are the image files? \")\n",
    "path_list = os.listdir(directory)\n",
    "path_list = [x for x in path_list if (x.endswith('.jpg') | x.endswith('.jpeg') | x.endswith('.png'))]"
   ]
  },
  {
   "cell_type": "code",
   "execution_count": 34,
   "metadata": {
    "collapsed": false
   },
   "outputs": [
    {
     "name": "stdout",
     "output_type": "stream",
     "text": [
      "Cynthia H. Hyndman.jpg\n",
      "David J. Burman.jpg\n",
      "Donald A. Bailey.jpg\n",
      "Edward H. Tillinghast.jpeg\n",
      "Eric D. Miller.jpg\n",
      "James F. Hurst.jpg\n"
     ]
    }
   ],
   "source": [
    "for path in path_list:\n",
    "    try:\n",
    "        file_path = directory + \"/\" + path\n",
    "        img = cv2.imread(file_path)\n",
    "        gray = cv2.cvtColor(img, cv2.COLOR_BGR2GRAY)\n",
    "\n",
    "        faces = face_cascade.detectMultiScale(gray, 1.3, 5)\n",
    "        face_count = 0\n",
    "        for (x,y,w,h) in faces:\n",
    "            face_count += 1\n",
    "            im = Image.open(file_path)\n",
    "            size = im.size\n",
    "\n",
    "            mask = Image.new('L', size, 0)\n",
    "            draw = ImageDraw.Draw(mask) \n",
    "\n",
    "            coords = (x,y,w,h)\n",
    "            x = coords[0]\n",
    "            y = coords[1] - coords[3] * 0.15\n",
    "            w = coords[0] + coords[2]\n",
    "            h = coords[1] + coords[3] * 1.25\n",
    "            draw.ellipse((x,y,w,h), fill=255)\n",
    "\n",
    "            output = ImageOps.fit(im, mask.size, centering=(0.5, 0.5))\n",
    "            output.putalpha(mask)\n",
    "            png_filename = \"lawyer_faces/\" + path[:-4] + \"_\" + str(face_count) + '.png'\n",
    "            output.save(png_filename)\n",
    "\n",
    "            im = Image.open(png_filename)\n",
    "            im = im.crop((int(x),int(y),int(w),int(h)))\n",
    "            jpg = Image.new(\"RGB\", im.size, (255,255,255))\n",
    "            jpg.paste(im,im)\n",
    "            jpg_filename = \"lawyer_faces/\" + path[:-4] + \"_\" + str(face_count) + '.jpg'\n",
    "            jpg.save(jpg_filename)\n",
    "            os.remove(png_filename)\n",
    "    except:\n",
    "        print path"
   ]
  },
  {
   "cell_type": "code",
   "execution_count": null,
   "metadata": {
    "collapsed": true
   },
   "outputs": [],
   "source": []
  }
 ],
 "metadata": {
  "kernelspec": {
   "display_name": "Python 2",
   "language": "python",
   "name": "python2"
  },
  "language_info": {
   "codemirror_mode": {
    "name": "ipython",
    "version": 2
   },
   "file_extension": ".py",
   "mimetype": "text/x-python",
   "name": "python",
   "nbconvert_exporter": "python",
   "pygments_lexer": "ipython2",
   "version": "2.7.11"
  }
 },
 "nbformat": 4,
 "nbformat_minor": 0
}
