{
 "cells": [
  {
   "cell_type": "code",
   "execution_count": 11,
   "metadata": {
    "collapsed": true
   },
   "outputs": [],
   "source": [
    "import os\n",
    "import pdfkit\n",
    "import urllib\n",
    "import pandas as pd"
   ]
  },
  {
   "cell_type": "code",
   "execution_count": 12,
   "metadata": {
    "collapsed": true
   },
   "outputs": [],
   "source": [
    "options = {\n",
    "    'quiet': ''\n",
    "    }"
   ]
  },
  {
   "cell_type": "code",
   "execution_count": 13,
   "metadata": {
    "collapsed": false
   },
   "outputs": [
    {
     "name": "stdout",
     "output_type": "stream",
     "text": [
      "mturk csv input filename:Batch_2370028_batch_results.csv\n"
     ]
    }
   ],
   "source": [
    "# 'Batch_2369516_batch_results(326).csv'\n",
    "csv = raw_input(\"mturk csv input filepath:\")\n",
    "batch = pd.DataFrame.from_csv(csv)"
   ]
  },
  {
   "cell_type": "code",
   "execution_count": 14,
   "metadata": {
    "collapsed": false
   },
   "outputs": [],
   "source": [
    "df = batch[['Input.name','Answer.img_url','Answer.web_url']]"
   ]
  },
  {
   "cell_type": "code",
   "execution_count": 15,
   "metadata": {
    "collapsed": true
   },
   "outputs": [],
   "source": [
    "# batch = pd.DataFrame.from_csv('Batch_2360631_batch_results.csv')\n",
    "pdf_dir = raw_input(\"pdf output dir:\")\n",
    "img_dir = raw_input(\"img output dir:\")"
   ]
  },
  {
   "cell_type": "code",
   "execution_count": 16,
   "metadata": {
    "collapsed": false
   },
   "outputs": [
    {
     "name": "stdout",
     "output_type": "stream",
     "text": [
      "Phillip_A._Bradley.pdf\n",
      "Timothy_M._Kelly.pdf\n",
      "Michael_A._Newdow.pdf\n",
      "Ernest_Gellhorn.pdf\n",
      "A._J._Kramer.pdf\n",
      "David_F._Sarnowski.pdf\n",
      "Leondra_R._Kruger.pdf\n"
     ]
    }
   ],
   "source": [
    "batch_row = 0\n",
    "for row in df.values:\n",
    "    name = row[0].replace(\" \",\"_\")\n",
    "    img_url = row[1]\n",
    "    txt_url = row[2]\n",
    "    try:\n",
    "        pdf_filename = pdf_dir + name + '.pdf'\n",
    "        if not os.path.isfile(pdf_filename):\n",
    "            pdfkit.from_url(txt_url, pdf_filename, options=options)\n",
    "    except:\n",
    "        print name + '.pdf'\n",
    "    try:\n",
    "        img_filename = img_dir + name + '.jpg'\n",
    "        if not os.path.isfile(img_filename):\n",
    "            urllib.urlretrieve(img_url, img_filename)\n",
    "    except:\n",
    "        print name + '.jpg'\n",
    "    batch_row += 1"
   ]
  },
  {
   "cell_type": "code",
   "execution_count": null,
   "metadata": {
    "collapsed": true
   },
   "outputs": [],
   "source": []
  }
 ],
 "metadata": {
  "kernelspec": {
   "display_name": "Python 2",
   "language": "python",
   "name": "python2"
  },
  "language_info": {
   "codemirror_mode": {
    "name": "ipython",
    "version": 2
   },
   "file_extension": ".py",
   "mimetype": "text/x-python",
   "name": "python",
   "nbconvert_exporter": "python",
   "pygments_lexer": "ipython2",
   "version": "2.7.11"
  }
 },
 "nbformat": 4,
 "nbformat_minor": 0
}
