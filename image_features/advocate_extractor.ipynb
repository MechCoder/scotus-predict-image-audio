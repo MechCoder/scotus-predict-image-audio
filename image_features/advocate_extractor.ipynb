{
 "cells": [
  {
   "cell_type": "code",
   "execution_count": 2,
   "metadata": {
    "collapsed": true
   },
   "outputs": [],
   "source": [
    "import pandas as pd\n",
    "import numpy as np"
   ]
  },
  {
   "cell_type": "code",
   "execution_count": 3,
   "metadata": {
    "collapsed": false
   },
   "outputs": [],
   "source": [
    "# get advocate data (1946 - 2014)\n",
    "df = pd.DataFrame.from_csv(\"../data/advocate_data/advocates.csv\", index_col=False)"
   ]
  },
  {
   "cell_type": "code",
   "execution_count": 4,
   "metadata": {
    "collapsed": false
   },
   "outputs": [],
   "source": [
    "df['term_oyez'] = df['term_oyez'].apply(lambda x: str(x))\n",
    "df['lawyer_name'] = df['lawyer_name'].apply(lambda x: x.strip())"
   ]
  },
  {
   "cell_type": "code",
   "execution_count": 5,
   "metadata": {
    "collapsed": true
   },
   "outputs": [],
   "source": [
    "# get additional data (1998 - 2014)\n",
    "a_df = pd.read_stata(\"../data/advocate_data/MatchedNames_FromAlex.dta\")"
   ]
  },
  {
   "cell_type": "code",
   "execution_count": 6,
   "metadata": {
    "collapsed": false
   },
   "outputs": [],
   "source": [
    "# break term and docket out of \"1998_01_227\" type string\n",
    "a_df['term'] = a_df['docket_id'].apply(lambda x: x.split(\"_\",1)[0])\n",
    "a_df['docket'] = a_df['docket_id'].apply(lambda x: x.split(\"_\",1)[1].replace(\"_\",\"-\"))"
   ]
  },
  {
   "cell_type": "code",
   "execution_count": 7,
   "metadata": {
    "collapsed": false
   },
   "outputs": [],
   "source": [
    "# break flags out of file name (flag b = p or r, petitioner/respondent)\n",
    "a_df['a'], a_df['b'], a_df['c'], a_df['d'] = zip(*a_df['audio'].apply(lambda x: x[-11:-4].split(\"_\")))"
   ]
  },
  {
   "cell_type": "code",
   "execution_count": 8,
   "metadata": {
    "collapsed": false
   },
   "outputs": [],
   "source": [
    "# this is optional -- it's not used in the join\n",
    "def bool_num(b):\n",
    "    if b == True:\n",
    "        return 1\n",
    "    else:\n",
    "        return 0\n",
    "    \n",
    "a_df['petitioner'] = (a_df['b'].apply(lambda x: bool_num(x=='p')))\n",
    "a_df['respondent'] = (a_df['b'].apply(lambda x: bool_num(x=='r')))\n",
    "a_df['other'] = (a_df['b'].apply(lambda x: bool_num((x<>'r') & (x <>'p'))))"
   ]
  },
  {
   "cell_type": "code",
   "execution_count": 9,
   "metadata": {
    "collapsed": false
   },
   "outputs": [],
   "source": [
    "# outer join the two data sources to find holes\n",
    "final =  df.merge(a_df,how='outer',\n",
    "         left_on=['term_oyez','docket_oyez','lawyer_name'],\n",
    "         right_on=['term','docket','full_name'])"
   ]
  },
  {
   "cell_type": "code",
   "execution_count": 10,
   "metadata": {
    "collapsed": true
   },
   "outputs": [],
   "source": [
    "final['term_merged'] = np.where(final['term_oyez'].isnull(), final['term'], final['term_oyez'])\n",
    "final['docket_merged'] = np.where(final['docket_oyez'].isnull(), final['docket'], final['docket_oyez'])\n",
    "final['name_merged'] = np.where(final['lawyer_name'].isnull(), final['full_name'], final['lawyer_name'])"
   ]
  },
  {
   "cell_type": "code",
   "execution_count": 11,
   "metadata": {
    "collapsed": false
   },
   "outputs": [],
   "source": [
    "final.to_csv(\"../data/advocate_data/lawyers_cases_1946-2014.csv\")"
   ]
  },
  {
   "cell_type": "code",
   "execution_count": 57,
   "metadata": {
    "collapsed": false
   },
   "outputs": [],
   "source": [
    "out = final[[\"name_merged\",\"docket_merged\",\"term_merged\"]]"
   ]
  },
  {
   "cell_type": "code",
   "execution_count": 58,
   "metadata": {
    "collapsed": false
   },
   "outputs": [],
   "source": [
    "out.columns = ['name', 'case', 'Year']"
   ]
  },
  {
   "cell_type": "code",
   "execution_count": 63,
   "metadata": {
    "collapsed": false
   },
   "outputs": [],
   "source": [
    "lawyers_dict = {}\n",
    "for row in out.sort([\"name\",\"Year\",\"case\"]).values:\n",
    "    if row[0] in lawyers_dict:\n",
    "        lawyers_dict[row[0]]['case'].append(row[1])\n",
    "        if lawyers_dict[row[0]]['year_max'] < row[2]:\n",
    "            lawyers_dict[row[0]]['year_max'] = row[2]\n",
    "        if lawyers_dict[row[0]]['year_min'] > row[2]:\n",
    "            lawyers_dict[row[0]]['year_max'] = row[2]\n",
    "    else:\n",
    "        lawyer_dict = {'case': [row[1]], 'year_max': row[2], 'year_min': row[2]}\n",
    "        lawyers_dict[row[0]] = lawyer_dict"
   ]
  },
  {
   "cell_type": "code",
   "execution_count": 92,
   "metadata": {
    "collapsed": false,
    "scrolled": true
   },
   "outputs": [],
   "source": [
    "# sometimes I get annoyed by pandas/csv writer and I just want to do it myself...\n",
    "text_file = open(\"../data/image_data/mturk/input.csv\", \"wb\")\n",
    "for lawyer in lawyers_dict:\n",
    "    cases = str(lawyers_dict[lawyer]['case'])\n",
    "    year_min = str(lawyers_dict[lawyer]['year_min']) \n",
    "    year_max = str(lawyers_dict[lawyer]['year_max'])\n",
    "    if year_max == year_min:\n",
    "        text_file.write('\"' + lawyer + '\"' + \",\" + year_min + \",\" + '\"' + cases + '\"' + '\\n')\n",
    "    else:\n",
    "        text_file.write('\"' + lawyer + '\"' + \",\" + year_min + \"-\" + year_max + \",\" + '\"' + cases + '\"' + '\\n')\n",
    "text_file.close()"
   ]
  }
 ],
 "metadata": {
  "kernelspec": {
   "display_name": "Python 2",
   "language": "python",
   "name": "python2"
  },
  "language_info": {
   "codemirror_mode": {
    "name": "ipython",
    "version": 2
   },
   "file_extension": ".py",
   "mimetype": "text/x-python",
   "name": "python",
   "nbconvert_exporter": "python",
   "pygments_lexer": "ipython2",
   "version": "2.7.11"
  }
 },
 "nbformat": 4,
 "nbformat_minor": 0
}
