{
 "cells": [
  {
   "cell_type": "code",
   "execution_count": 20,
   "metadata": {
    "collapsed": true
   },
   "outputs": [],
   "source": [
    "import pandas as pd\n",
    "import numpy as np"
   ]
  },
  {
   "cell_type": "code",
   "execution_count": 21,
   "metadata": {
    "collapsed": false
   },
   "outputs": [],
   "source": [
    "lawyers_cases = pd.DataFrame.from_csv(\"../data/advocate_data/lawyers_cases_1946-2014.csv\")"
   ]
  },
  {
   "cell_type": "code",
   "execution_count": 22,
   "metadata": {
    "collapsed": false
   },
   "outputs": [],
   "source": [
    "lawyers_cases['side'] = \"NaN\"\n",
    "lawyers_cases.loc[(lawyers_cases[\"petitioner_x\"] == 1) & (lawyers_cases[\"petitioner_y\"] == 1), \"side\"] = 'p'\n",
    "lawyers_cases.loc[(lawyers_cases[\"petitioner_x\"] == 1) & (lawyers_cases[\"petitioner_y\"].isnull()), \"side\"] = 'p'\n",
    "lawyers_cases.loc[(lawyers_cases[\"petitioner_x\"].isnull()) & (lawyers_cases[\"petitioner_y\"] == 1), \"side\"] = 'p'\n",
    "lawyers_cases.loc[(lawyers_cases[\"petitioner_x\"] == 1) & (lawyers_cases[\"other_y\"] == 1), \"side\"] = 'p'\n",
    "lawyers_cases.loc[(lawyers_cases[\"other_x\"] == 1) & (lawyers_cases[\"petitioner_y\"] == 1), \"side\"] = 'p'\n",
    "lawyers_cases.loc[(lawyers_cases[\"amicus_curiae\"] == 1) & (lawyers_cases[\"petitioner_y\"] == 1), \"side\"] = 'p'\n",
    "\n",
    "lawyers_cases.loc[(lawyers_cases[\"respondent_x\"] == 1) & (lawyers_cases[\"respondent_y\"] == 1), \"side\"] = 'r'\n",
    "lawyers_cases.loc[(lawyers_cases[\"respondent_x\"] == 1) & (lawyers_cases[\"respondent_y\"].isnull()), \"side\"] = 'r'\n",
    "lawyers_cases.loc[(lawyers_cases[\"respondent_x\"].isnull()) & (lawyers_cases[\"respondent_y\"] == 1), \"side\"] = 'r'\n",
    "lawyers_cases.loc[(lawyers_cases[\"respondent_x\"] == 1) & (lawyers_cases[\"other_y\"] == 1), \"side\"] = 'r'\n",
    "lawyers_cases.loc[(lawyers_cases[\"other_x\"] == 1) & (lawyers_cases[\"respondent_y\"] == 1), \"side\"] = 'r'\n",
    "lawyers_cases.loc[(lawyers_cases[\"amicus_curiae\"] == 1) & (lawyers_cases[\"respondent_y\"] == 1), \"side\"] = 'r'"
   ]
  },
  {
   "cell_type": "code",
   "execution_count": 23,
   "metadata": {
    "collapsed": false
   },
   "outputs": [],
   "source": [
    "lawyers_cases = lawyers_cases[~((lawyers_cases['side'] == \"NaN\") & ~((lawyers_cases['other_x'] == 1) | (lawyers_cases['amicus_curiae'] == 1)))]"
   ]
  },
  {
   "cell_type": "code",
   "execution_count": 24,
   "metadata": {
    "collapsed": false
   },
   "outputs": [],
   "source": [
    "lawyers_traits = pd.DataFrame.from_csv(\"../data/advocate_data/lawyer_trait_predictions.csv\")"
   ]
  },
  {
   "cell_type": "code",
   "execution_count": 25,
   "metadata": {
    "collapsed": false
   },
   "outputs": [],
   "source": [
    "lawyers_traits['path'] = lawyers_traits['path'].str.replace('.jpg', '')\n",
    "lawyers_traits['path'] = lawyers_traits['path'].str.replace('_', ' ')\n",
    "lawyers_traits.rename(columns={'path': 'name'}, inplace=True)"
   ]
  },
  {
   "cell_type": "code",
   "execution_count": 26,
   "metadata": {
    "collapsed": false
   },
   "outputs": [],
   "source": [
    "joined = lawyers_cases.merge(lawyers_traits,how='left',\n",
    "         left_on=['name_merged'],\n",
    "         right_on=['name'])"
   ]
  },
  {
   "cell_type": "code",
   "execution_count": 27,
   "metadata": {
    "collapsed": false
   },
   "outputs": [],
   "source": [
    "traits = list(joined.columns.values)[-40:]"
   ]
  },
  {
   "cell_type": "code",
   "execution_count": 28,
   "metadata": {
    "collapsed": false,
    "scrolled": true
   },
   "outputs": [],
   "source": [
    "df2 = joined.groupby(['term_merged', 'docket_merged','side'],as_index=False)[traits].mean()"
   ]
  },
  {
   "cell_type": "code",
   "execution_count": 29,
   "metadata": {
    "collapsed": false
   },
   "outputs": [],
   "source": [
    "# drop out missing data\n",
    "df2 = df2[~df2['atypical'].isnull()]"
   ]
  },
  {
   "cell_type": "code",
   "execution_count": 30,
   "metadata": {
    "collapsed": true
   },
   "outputs": [],
   "source": [
    "# keep only certain columns\n",
    "df2 = df2[[\"term_merged\", \"docket_merged\", \"side\", \"happy\", \"friendly\", \"caring\", \"unhappy\", \"sociable\", \"cold\", \"kind\", \"unemotional\"]]"
   ]
  },
  {
   "cell_type": "code",
   "execution_count": 31,
   "metadata": {
    "collapsed": false
   },
   "outputs": [],
   "source": [
    "# df2[df2[\"side\"] == \"p\"].to_csv(\"../data/advocate_data/petitioner_predictions.csv\")"
   ]
  },
  {
   "cell_type": "code",
   "execution_count": 32,
   "metadata": {
    "collapsed": false
   },
   "outputs": [],
   "source": [
    "# df2[df2[\"side\"] == \"r\"].to_csv(\"../data/advocate_data/respondent_predictions.csv\")"
   ]
  },
  {
   "cell_type": "code",
   "execution_count": 33,
   "metadata": {
    "collapsed": false
   },
   "outputs": [],
   "source": [
    "pet = df2[df2[\"side\"] == \"p\"]"
   ]
  },
  {
   "cell_type": "code",
   "execution_count": 34,
   "metadata": {
    "collapsed": true
   },
   "outputs": [],
   "source": [
    "res = df2[df2[\"side\"] == \"r\"]"
   ]
  },
  {
   "cell_type": "code",
   "execution_count": 35,
   "metadata": {
    "collapsed": false
   },
   "outputs": [],
   "source": [
    "final = pet.merge(res,how='outer',\n",
    "        left_on=['term_merged','docket_merged'],\n",
    "        right_on=['term_merged','docket_merged'])"
   ]
  },
  {
   "cell_type": "code",
   "execution_count": 36,
   "metadata": {
    "collapsed": true
   },
   "outputs": [],
   "source": [
    "final.to_csv(\"../data/advocate_data/petitioner_and_respondent_ratings.csv\")"
   ]
  },
  {
   "cell_type": "code",
   "execution_count": null,
   "metadata": {
    "collapsed": true
   },
   "outputs": [],
   "source": []
  }
 ],
 "metadata": {
  "kernelspec": {
   "display_name": "Python 2",
   "language": "python",
   "name": "python2"
  },
  "language_info": {
   "codemirror_mode": {
    "name": "ipython",
    "version": 2
   },
   "file_extension": ".py",
   "mimetype": "text/x-python",
   "name": "python",
   "nbconvert_exporter": "python",
   "pygments_lexer": "ipython2",
   "version": "2.7.11"
  }
 },
 "nbformat": 4,
 "nbformat_minor": 0
}
