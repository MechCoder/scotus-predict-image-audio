{
 "cells": [
  {
   "cell_type": "code",
   "execution_count": 1,
   "metadata": {
    "collapsed": true
   },
   "outputs": [],
   "source": [
    "import pandas as pd"
   ]
  },
  {
   "cell_type": "code",
   "execution_count": 2,
   "metadata": {
    "collapsed": false
   },
   "outputs": [],
   "source": [
    "sub_mean = pd.read_csv(\"../data/input/data_remove/remove_data_unknown.csv\",dtype={'docket': 'string'})\n",
    "joined = pd.read_csv(\"../data/advocate_data/petitioner_and_respondent_ratings.csv\",index_col=0)\n",
    "joined = joined.drop('side_x', 1)\n",
    "joined = joined.drop('side_y', 1)\n",
    "p_r_joined = joined.fillna(\"\")\n",
    "joined = sub_mean.merge(p_r_joined, how='left',\n",
    "         left_on=['term','docket'], right_on=['term_merged','docket_merged'])\n",
    "joined = joined.drop(['term_merged','docket_merged'], axis=1)"
   ]
  },
  {
   "cell_type": "code",
   "execution_count": 3,
   "metadata": {
    "collapsed": false
   },
   "outputs": [],
   "source": [
    "joined = joined[~joined['unemotional_x'].isnull() | ~joined['unemotional_y'].isnull()]"
   ]
  },
  {
   "cell_type": "code",
   "execution_count": 4,
   "metadata": {
    "collapsed": true
   },
   "outputs": [],
   "source": [
    "joined.to_csv(\"remove_data_unknown_with_img.csv\")"
   ]
  },
  {
   "cell_type": "code",
   "execution_count": 5,
   "metadata": {
    "collapsed": false
   },
   "outputs": [],
   "source": [
    "sub_mean = pd.read_csv(\"../data/input/data_remove/remove_features_unknown.csv\",dtype={'docket': 'string'})\n",
    "joined = pd.read_csv(\"../data/advocate_data/petitioner_and_respondent_ratings.csv\",index_col=0)\n",
    "joined = joined.drop('side_x', 1)\n",
    "joined = joined.drop('side_y', 1)\n",
    "p_r_joined = joined.fillna(\"\")\n",
    "joined = sub_mean.merge(p_r_joined,how='left',\n",
    "         left_on=['term_raw','docket'], right_on=['term_merged','docket_merged'])\n",
    "joined = joined.drop(['term_merged','docket_merged'], axis=1)"
   ]
  },
  {
   "cell_type": "code",
   "execution_count": 6,
   "metadata": {
    "collapsed": true
   },
   "outputs": [],
   "source": [
    "joined = joined[~joined['unemotional_x'].isnull() | ~joined['unemotional_y'].isnull()]"
   ]
  },
  {
   "cell_type": "code",
   "execution_count": 7,
   "metadata": {
    "collapsed": true
   },
   "outputs": [],
   "source": [
    "joined.to_csv(\"remove_features_unknown_with_img.csv\")"
   ]
  },
  {
   "cell_type": "code",
   "execution_count": null,
   "metadata": {
    "collapsed": true
   },
   "outputs": [],
   "source": []
  }
 ],
 "metadata": {
  "kernelspec": {
   "display_name": "Python 2",
   "language": "python",
   "name": "python2"
  },
  "language_info": {
   "codemirror_mode": {
    "name": "ipython",
    "version": 2
   },
   "file_extension": ".py",
   "mimetype": "text/x-python",
   "name": "python",
   "nbconvert_exporter": "python",
   "pygments_lexer": "ipython2",
   "version": "2.7.11"
  }
 },
 "nbformat": 4,
 "nbformat_minor": 0
}
