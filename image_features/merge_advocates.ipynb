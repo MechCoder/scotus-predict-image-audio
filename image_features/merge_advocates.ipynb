{
 "cells": [
  {
   "cell_type": "code",
   "execution_count": 14,
   "metadata": {
    "collapsed": true
   },
   "outputs": [],
   "source": [
    "import pandas as pd\n",
    "import numpy as np"
   ]
  },
  {
   "cell_type": "code",
   "execution_count": 27,
   "metadata": {
    "collapsed": false
   },
   "outputs": [],
   "source": [
    "lawyers_cases = pd.DataFrame.from_csv(\"lawyers_cases_1946-2014.csv\")"
   ]
  },
  {
   "cell_type": "code",
   "execution_count": 16,
   "metadata": {
    "collapsed": false
   },
   "outputs": [],
   "source": [
    "lawyers_cases['side'] = \"NaN\"\n",
    "lawyers_cases.loc[(lawyers_cases[\"petitioner_x\"] == 1) & (lawyers_cases[\"petitioner_y\"] == 1), \"side\"] = 'p'\n",
    "lawyers_cases.loc[(lawyers_cases[\"petitioner_x\"] == 1) & (lawyers_cases[\"petitioner_y\"].isnull()), \"side\"] = 'p'\n",
    "lawyers_cases.loc[(lawyers_cases[\"petitioner_x\"].isnull()) & (lawyers_cases[\"petitioner_y\"] == 1), \"side\"] = 'p'\n",
    "lawyers_cases.loc[(lawyers_cases[\"petitioner_x\"] == 1) & (lawyers_cases[\"other_y\"] == 1), \"side\"] = 'p'\n",
    "lawyers_cases.loc[(lawyers_cases[\"other_x\"] == 1) & (lawyers_cases[\"petitioner_y\"] == 1), \"side\"] = 'p'\n",
    "lawyers_cases.loc[(lawyers_cases[\"amicus_curiae\"] == 1) & (lawyers_cases[\"petitioner_y\"] == 1), \"side\"] = 'p'\n",
    "\n",
    "lawyers_cases.loc[(lawyers_cases[\"respondent_x\"] == 1) & (lawyers_cases[\"respondent_y\"] == 1), \"side\"] = 'r'\n",
    "lawyers_cases.loc[(lawyers_cases[\"respondent_x\"] == 1) & (lawyers_cases[\"respondent_y\"].isnull()), \"side\"] = 'r'\n",
    "lawyers_cases.loc[(lawyers_cases[\"respondent_x\"].isnull()) & (lawyers_cases[\"respondent_y\"] == 1), \"side\"] = 'r'\n",
    "lawyers_cases.loc[(lawyers_cases[\"respondent_x\"] == 1) & (lawyers_cases[\"other_y\"] == 1), \"side\"] = 'r'\n",
    "lawyers_cases.loc[(lawyers_cases[\"other_x\"] == 1) & (lawyers_cases[\"respondent_y\"] == 1), \"side\"] = 'r'\n",
    "lawyers_cases.loc[(lawyers_cases[\"amicus_curiae\"] == 1) & (lawyers_cases[\"respondent_y\"] == 1), \"side\"] = 'r'"
   ]
  },
  {
   "cell_type": "code",
   "execution_count": 17,
   "metadata": {
    "collapsed": false
   },
   "outputs": [],
   "source": [
    "lawyers_cases = lawyers_cases[~((lawyers_cases['side'] == \"NaN\") & ~((lawyers_cases['other_x'] == 1) | (lawyers_cases['amicus_curiae'] == 1)))]"
   ]
  },
  {
   "cell_type": "code",
   "execution_count": 18,
   "metadata": {
    "collapsed": false
   },
   "outputs": [],
   "source": [
    "lawyers_traits = pd.DataFrame.from_csv(\"lawyer_trait_for_join_1000.csv\")"
   ]
  },
  {
   "cell_type": "code",
   "execution_count": 19,
   "metadata": {
    "collapsed": true
   },
   "outputs": [],
   "source": [
    "joined = lawyers_cases.merge(lawyers_traits,how='left',\n",
    "         left_on=['name_merged'],\n",
    "         right_on=['name'])"
   ]
  },
  {
   "cell_type": "code",
   "execution_count": 20,
   "metadata": {
    "collapsed": false
   },
   "outputs": [],
   "source": [
    "traits = list(joined.columns.values)[-40:]"
   ]
  },
  {
   "cell_type": "code",
   "execution_count": 21,
   "metadata": {
    "collapsed": false,
    "scrolled": true
   },
   "outputs": [],
   "source": [
    "df2 = joined.groupby(['term_merged', 'docket_merged','side'],as_index=False)[traits].mean()"
   ]
  },
  {
   "cell_type": "code",
   "execution_count": 22,
   "metadata": {
    "collapsed": false
   },
   "outputs": [],
   "source": [
    "# drop out missing data\n",
    "df2 = df2[~df2['atypical'].isnull()]"
   ]
  },
  {
   "cell_type": "code",
   "execution_count": 23,
   "metadata": {
    "collapsed": true
   },
   "outputs": [],
   "source": [
    "# keep only certain columns\n",
    "df2 = df2[[\"term_merged\", \"docket_merged\", \"side\", \"happy\", \"friendly\", \"caring\", \"unhappy\", \"sociable\", \"cold\", \"kind\", \"unemotional\"]]"
   ]
  },
  {
   "cell_type": "code",
   "execution_count": 24,
   "metadata": {
    "collapsed": false
   },
   "outputs": [],
   "source": [
    "df2[df2[\"side\"] == \"p\"].to_csv(\"petitioner_predictions.csv\")"
   ]
  },
  {
   "cell_type": "code",
   "execution_count": 25,
   "metadata": {
    "collapsed": false
   },
   "outputs": [],
   "source": [
    "df2[df2[\"side\"] == \"r\"].to_csv(\"respondent_predictions.csv\")"
   ]
  },
  {
   "cell_type": "code",
   "execution_count": null,
   "metadata": {
    "collapsed": true
   },
   "outputs": [],
   "source": []
  }
 ],
 "metadata": {
  "kernelspec": {
   "display_name": "Python 2",
   "language": "python",
   "name": "python2"
  },
  "language_info": {
   "codemirror_mode": {
    "name": "ipython",
    "version": 2
   },
   "file_extension": ".py",
   "mimetype": "text/x-python",
   "name": "python",
   "nbconvert_exporter": "python",
   "pygments_lexer": "ipython2",
   "version": "2.7.11"
  }
 },
 "nbformat": 4,
 "nbformat_minor": 0
}
